{
 "cells": [
  {
   "cell_type": "markdown",
   "id": "05c8f2f7",
   "metadata": {},
   "source": [
    "# 1. IMPORTING LIBRARIES"
   ]
  },
  {
   "cell_type": "code",
   "execution_count": 16,
   "id": "cfd3ed1f",
   "metadata": {},
   "outputs": [],
   "source": [
    "# Import Libraries\n",
    "import pandas as pd\n",
    "import numpy as np\n",
    "import os"
   ]
  },
  {
   "cell_type": "markdown",
   "id": "d44798b7",
   "metadata": {},
   "source": [
    "# TASK STEPS"
   ]
  },
  {
   "cell_type": "code",
   "execution_count": 17,
   "id": "8b984daf",
   "metadata": {},
   "outputs": [],
   "source": [
    "# Step-7\n",
    "a=50\n",
    "b=50\n"
   ]
  },
  {
   "cell_type": "code",
   "execution_count": 18,
   "id": "8ed3f4bb",
   "metadata": {},
   "outputs": [
    {
     "data": {
      "text/plain": [
       "100"
      ]
     },
     "execution_count": 18,
     "metadata": {},
     "output_type": "execute_result"
    }
   ],
   "source": [
    "a+b"
   ]
  },
  {
   "cell_type": "code",
   "execution_count": 19,
   "id": "1583bb46",
   "metadata": {},
   "outputs": [],
   "source": [
    "c=150"
   ]
  },
  {
   "cell_type": "code",
   "execution_count": 20,
   "id": "b5da0476",
   "metadata": {},
   "outputs": [
    {
     "data": {
      "text/plain": [
       "100"
      ]
     },
     "execution_count": 20,
     "metadata": {},
     "output_type": "execute_result"
    }
   ],
   "source": [
    "c-b"
   ]
  },
  {
   "cell_type": "code",
   "execution_count": 21,
   "id": "fe020099",
   "metadata": {},
   "outputs": [],
   "source": [
    "d=10\n",
    "e=10"
   ]
  },
  {
   "cell_type": "code",
   "execution_count": 22,
   "id": "849d373c",
   "metadata": {},
   "outputs": [
    {
     "data": {
      "text/plain": [
       "100"
      ]
     },
     "execution_count": 22,
     "metadata": {},
     "output_type": "execute_result"
    }
   ],
   "source": [
    "d*e"
   ]
  },
  {
   "cell_type": "code",
   "execution_count": 23,
   "id": "9d5d66e2",
   "metadata": {},
   "outputs": [],
   "source": [
    "# Step-8\n",
    "f=24.8\n",
    "g=3.1"
   ]
  },
  {
   "cell_type": "code",
   "execution_count": 24,
   "id": "ff472f1a",
   "metadata": {},
   "outputs": [
    {
     "data": {
      "text/plain": [
       "8.0"
      ]
     },
     "execution_count": 24,
     "metadata": {},
     "output_type": "execute_result"
    }
   ],
   "source": [
    "f/g"
   ]
  },
  {
   "cell_type": "code",
   "execution_count": 25,
   "id": "340f752b",
   "metadata": {},
   "outputs": [
    {
     "data": {
      "text/plain": [
       "0.125"
      ]
     },
     "execution_count": 25,
     "metadata": {},
     "output_type": "execute_result"
    }
   ],
   "source": [
    "g/f"
   ]
  },
  {
   "cell_type": "code",
   "execution_count": 30,
   "id": "044cd688",
   "metadata": {},
   "outputs": [],
   "source": [
    "# Step-9\n",
    "h='Kam'\n",
    "i='ini'"
   ]
  },
  {
   "cell_type": "code",
   "execution_count": 31,
   "id": "6e832d1a",
   "metadata": {},
   "outputs": [
    {
     "data": {
      "text/plain": [
       "'Kamini'"
      ]
     },
     "execution_count": 31,
     "metadata": {},
     "output_type": "execute_result"
    }
   ],
   "source": [
    "h+i"
   ]
  },
  {
   "cell_type": "code",
   "execution_count": 35,
   "id": "e599c9c6",
   "metadata": {},
   "outputs": [],
   "source": [
    "# Step-10\n",
    "j='My name is '\n",
    "k='Kamini.'"
   ]
  },
  {
   "cell_type": "code",
   "execution_count": 36,
   "id": "ffbd91a5",
   "metadata": {},
   "outputs": [
    {
     "data": {
      "text/plain": [
       "'My name is Kamini.'"
      ]
     },
     "execution_count": 36,
     "metadata": {},
     "output_type": "execute_result"
    }
   ],
   "source": [
    "j+k"
   ]
  },
  {
   "cell_type": "code",
   "execution_count": 37,
   "id": "6d2cd1be",
   "metadata": {},
   "outputs": [],
   "source": [
    "l='I am learning '\n",
    "m='Python.'"
   ]
  },
  {
   "cell_type": "code",
   "execution_count": 38,
   "id": "ddf2c3b5",
   "metadata": {},
   "outputs": [
    {
     "data": {
      "text/plain": [
       "'I am learning Python.'"
      ]
     },
     "execution_count": 38,
     "metadata": {},
     "output_type": "execute_result"
    }
   ],
   "source": [
    "l+m"
   ]
  },
  {
   "cell_type": "code",
   "execution_count": 39,
   "id": "67688d80",
   "metadata": {},
   "outputs": [],
   "source": [
    "# Bonus Task\n",
    "n='Germany'"
   ]
  },
  {
   "cell_type": "code",
   "execution_count": 40,
   "id": "6a0a6bbd",
   "metadata": {},
   "outputs": [
    {
     "data": {
      "text/plain": [
       "'GermanyGermanyGermanyGermanyGermanyGermanyGermanyGermanyGermanyGermanyGermanyGermanyGermanyGermanyGermanyGermanyGermanyGermanyGermanyGermanyGermanyGermanyGermanyGermanyGermanyGermanyGermanyGermanyGermanyGermanyGermanyGermanyGermanyGermanyGermanyGermanyGermanyGermanyGermanyGermanyGermanyGermanyGermanyGermanyGermanyGermanyGermanyGermanyGermanyGermanyGermanyGermanyGermanyGermanyGermanyGermanyGermanyGermanyGermanyGermanyGermanyGermanyGermanyGermanyGermanyGermanyGermanyGermanyGermanyGermanyGermanyGermanyGermanyGermanyGermanyGermanyGermanyGermanyGermanyGermanyGermanyGermanyGermanyGermanyGermanyGermanyGermanyGermanyGermanyGermanyGermanyGermanyGermanyGermanyGermanyGermanyGermanyGermanyGermanyGermany'"
      ]
     },
     "execution_count": 40,
     "metadata": {},
     "output_type": "execute_result"
    }
   ],
   "source": [
    "n*100"
   ]
  },
  {
   "cell_type": "code",
   "execution_count": null,
   "id": "7dd42ec5",
   "metadata": {},
   "outputs": [],
   "source": []
  }
 ],
 "metadata": {
  "kernelspec": {
   "display_name": "Python 3 (ipykernel)",
   "language": "python",
   "name": "python3"
  },
  "language_info": {
   "codemirror_mode": {
    "name": "ipython",
    "version": 3
   },
   "file_extension": ".py",
   "mimetype": "text/x-python",
   "name": "python",
   "nbconvert_exporter": "python",
   "pygments_lexer": "ipython3",
   "version": "3.10.9"
  }
 },
 "nbformat": 4,
 "nbformat_minor": 5
}
